{
  "nbformat": 4,
  "nbformat_minor": 0,
  "metadata": {
    "colab": {
      "name": "ETL_IBM_Datascienc_Capstone.ipynb",
      "version": "0.3.2",
      "provenance": []
    },
    "kernelspec": {
      "name": "python3",
      "display_name": "Python 3"
    },
    "accelerator": "GPU"
  },
  "cells": [
    {
      "cell_type": "code",
      "metadata": {
        "id": "cJwGW9GC45fE",
        "colab_type": "code",
        "colab": {}
      },
      "source": [
        "#!rm -r IBM_Datascienc_Capstone \n",
        "#!rm -r data\n"
      ],
      "execution_count": 0,
      "outputs": []
    },
    {
      "cell_type": "code",
      "metadata": {
        "id": "9Devkvc23Yv6",
        "colab_type": "code",
        "outputId": "28470c7b-321f-45e3-a96b-80426b13922c",
        "colab": {
          "base_uri": "https://localhost:8080/",
          "height": 153
        }
      },
      "source": [
        "!git clone https://github.com/Fasih1994/IBM_Datascienc_Capstone_data.git"
      ],
      "execution_count": 0,
      "outputs": [
        {
          "output_type": "stream",
          "text": [
            "Cloning into 'IBM_Datascienc_Capstone'...\n",
            "remote: Enumerating objects: 65904, done.\u001b[K\n",
            "remote: Counting objects: 100% (65904/65904), done.\u001b[K\n",
            "remote: Compressing objects: 100% (65904/65904), done.\u001b[K\n",
            "remote: Total 65904 (delta 1), reused 65900 (delta 0), pack-reused 0\n",
            "Receiving objects: 100% (65904/65904), 1.76 GiB | 50.38 MiB/s, done.\n",
            "Resolving deltas: 100% (1/1), done.\n",
            "Checking out files: 100% (65775/65775), done.\n"
          ],
          "name": "stdout"
        }
      ]
    },
    {
      "cell_type": "code",
      "metadata": {
        "id": "Ajp0HZT-3kkz",
        "colab_type": "code",
        "colab": {}
      },
      "source": [
        "# Data directory\n",
        "final_data_dir = 'data'\n",
        "# Data's top-level directory (after download & decompreshion)\n",
        "dataset_dir = 'IBM_Datascienc_Capstone'\n",
        "# Filename for image sizes\n",
        "img_sizes_csv = 'image_sizes.csv'"
      ],
      "execution_count": 0,
      "outputs": []
    },
    {
      "cell_type": "code",
      "metadata": {
        "id": "DhJCYzIL311D",
        "colab_type": "code",
        "colab": {}
      },
      "source": [
        "import os \n",
        "import shutil\n",
        "import sys"
      ],
      "execution_count": 0,
      "outputs": []
    },
    {
      "cell_type": "code",
      "metadata": {
        "id": "gbTbzxQF4E-3",
        "colab_type": "code",
        "outputId": "e900e8a7-36d0-4868-f51c-2f4a15995232",
        "colab": {
          "base_uri": "https://localhost:8080/",
          "height": 34
        }
      },
      "source": [
        "n_copy = 0\n",
        "if not os.path.exists(final_data_dir):\n",
        "    os.mkdir(final_data_dir)\n",
        "\n",
        "subjects = 'A B C D E'.split()\n",
        "for subject in subjects:\n",
        "    path = os.path.join(dataset_dir,subject)\n",
        "    \n",
        "    for letter in os.listdir(path):\n",
        "        current_path = os.path.join(path,letter)\n",
        "        new_path = os.path.join(final_data_dir,letter)\n",
        "        \n",
        "        if not os.path.exists(new_path):\n",
        "            os.mkdir(new_path)\n",
        "        \n",
        "        for file in os.listdir(current_path):\n",
        "            file_path = os.path.join(current_path,file)\n",
        "            new_name = '{}_{}.png'.format(letter,len(os.listdir(new_path)))\n",
        "            new_file_path = os.path.join(new_path,new_name)\n",
        "            shutil.copy(file_path,new_file_path)\n",
        "            n_copy+=1\n",
        "            print('\\r#{}: {} copied from {}'.format(n_copy,new_file_path,file_path), end='')\n",
        "            sys.stdout.flush()"
      ],
      "execution_count": 0,
      "outputs": [
        {
          "output_type": "stream",
          "text": [
            "#9640: data/a/a_186.png copied from IBM_Datascienc_Capstone/A/a/color_0_0199.png"
          ],
          "name": "stdout"
        }
      ]
    },
    {
      "cell_type": "code",
      "metadata": {
        "id": "yx1gjNJm_3Ml",
        "colab_type": "code",
        "colab": {}
      },
      "source": [
        "!rm -r IBM_Datascienc_Capstone"
      ],
      "execution_count": 0,
      "outputs": []
    },
    {
      "cell_type": "code",
      "metadata": {
        "id": "EphJYNy26z8L",
        "colab_type": "code",
        "outputId": "910ef296-c1cc-44e4-ab6c-661121b08c5e",
        "colab": {
          "base_uri": "https://localhost:8080/",
          "height": 425
        }
      },
      "source": [
        "for letter in os.listdir('data'):\n",
        "  path = 'data/'+str(letter)\n",
        "  print('{} : {}'.format(letter,len(os.listdir(path))))\n"
      ],
      "execution_count": 0,
      "outputs": [
        {
          "output_type": "stream",
          "text": [
            "n : 2694\n",
            "w : 3108\n",
            "i : 2631\n",
            "y : 2666\n",
            "a : 2676\n",
            "g : 2679\n",
            "o : 2656\n",
            "l : 2754\n",
            "h : 2696\n",
            "q : 2672\n",
            "f : 2615\n",
            "t : 2624\n",
            "b : 2728\n",
            "k : 2939\n",
            "r : 2940\n",
            "p : 2803\n",
            "x : 2731\n",
            "d : 2680\n",
            "c : 2916\n",
            "s : 2784\n",
            "e : 2681\n",
            "v : 2738\n",
            "u : 2653\n",
            "m : 2710\n"
          ],
          "name": "stdout"
        }
      ]
    },
    {
      "cell_type": "code",
      "metadata": {
        "id": "fS88X1Kt8H6r",
        "colab_type": "code",
        "colab": {}
      },
      "source": [
        ""
      ],
      "execution_count": 0,
      "outputs": []
    }
  ]
}