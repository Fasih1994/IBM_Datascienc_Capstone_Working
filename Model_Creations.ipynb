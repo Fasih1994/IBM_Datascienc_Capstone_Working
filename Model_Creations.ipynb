{
  "nbformat": 4,
  "nbformat_minor": 0,
  "metadata": {
    "colab": {
      "name": "Model Creations.ipynb",
      "version": "0.3.2",
      "provenance": [],
      "collapsed_sections": [],
      "toc_visible": true
    },
    "kernelspec": {
      "name": "python3",
      "display_name": "Python 3"
    },
    "accelerator": "GPU"
  },
  "cells": [
    {
      "cell_type": "markdown",
      "metadata": {
        "id": "E6IWoi8qBE9R",
        "colab_type": "text"
      },
      "source": [
        "#What I am going to do here\n",
        "## Make Small dataset\n",
        "First I am making small sized dataset so that I can itrate faster in model making process process \n",
        "\n",
        "## Models I am going to use \n",
        "### Machine Learning\n",
        "1.   Logistic Regression\n",
        "\n",
        "### Deep Learning\n",
        "\n",
        "\n",
        "1.   Small 5 Layer CNN without dropout or L2_regularization\n",
        "2.   Larger 9 layer CNN without dropout or L2_regularization\n",
        "3.   Larger 9 layer CNN with dropout ( with rates = [0.2 -- > 0.5 --> 0.14])\n",
        "4.   Transfer Learning Technique with VGG16\n",
        "\n",
        "## Further Process\n",
        "After finding the best model for small dataset I will traind it on the complete dataset and evaluate the final result.\n",
        "\n",
        "\n"
      ]
    },
    {
      "cell_type": "markdown",
      "metadata": {
        "id": "ZZD-7hz8Dr5y",
        "colab_type": "text"
      },
      "source": [
        "# Making Small Dataset"
      ]
    },
    {
      "cell_type": "code",
      "metadata": {
        "id": "3dEowaVVIJd3",
        "colab_type": "code",
        "colab": {}
      },
      "source": [
        "#!rm -r data_small"
      ],
      "execution_count": 0,
      "outputs": []
    },
    {
      "cell_type": "code",
      "metadata": {
        "id": "0-7uIyzGOWTb",
        "colab_type": "code",
        "colab": {}
      },
      "source": [
        ""
      ],
      "execution_count": 0,
      "outputs": []
    },
    {
      "cell_type": "code",
      "metadata": {
        "id": "4Y5xJyR1ABXO",
        "colab_type": "code",
        "outputId": "a3292cec-291e-4369-f151-34e054abd1c2",
        "colab": {
          "base_uri": "https://localhost:8080/",
          "height": 34
        }
      },
      "source": [
        "import os \n",
        "from matplotlib import pyplot as plt\n",
        "import numpy as np\n",
        "import keras\n",
        "from keras import models,layers\n",
        "from keras.preprocessing.image import ImageDataGenerator\n",
        "import shutil\n",
        "import sys\n"
      ],
      "execution_count": 0,
      "outputs": [
        {
          "output_type": "stream",
          "text": [
            "Using TensorFlow backend.\n"
          ],
          "name": "stderr"
        }
      ]
    },
    {
      "cell_type": "code",
      "metadata": {
        "id": "5NB-zE7yGWwy",
        "colab_type": "code",
        "colab": {}
      },
      "source": [
        "base_dir = 'data_small'\n",
        "os.mkdir(base_dir)\n",
        "data_dir = 'data'\n",
        "\n",
        "train_dir = os.path.join(base_dir,'train')\n",
        "os.mkdir(train_dir)\n",
        "valid_dir = os.path.join(base_dir,'valid')\n",
        "os.mkdir(valid_dir)\n",
        "test_dir = os.path.join(base_dir,'test')\n",
        "os.mkdir(test_dir)\n",
        "  "
      ],
      "execution_count": 0,
      "outputs": []
    },
    {
      "cell_type": "code",
      "metadata": {
        "id": "-7XXiuISS8nm",
        "colab_type": "code",
        "colab": {}
      },
      "source": [
        "for letter in os.listdir(data_dir):\n",
        "  letter_dir = os.path.join(data_dir,letter)\n",
        "  fnames = os.listdir(letter_dir)[0:300]      #gives random elements from list\n",
        "  new_path = os.path.join(train_dir,letter)\n",
        "  if not os.path.exists(new_path):\n",
        "    os.mkdir(new_path)\n",
        "  for fname in fnames:\n",
        "    file_path = os.path.join(letter_dir,fname)\n",
        "    new_file_path = os.path.join(new_path,fname)\n",
        "    shutil.copy(file_path,new_file_path)"
      ],
      "execution_count": 0,
      "outputs": []
    },
    {
      "cell_type": "code",
      "metadata": {
        "id": "4k_Tkwr2S_We",
        "colab_type": "code",
        "colab": {}
      },
      "source": [
        "for letter in os.listdir(data_dir):\n",
        "  letter_dir = os.path.join(data_dir,letter)\n",
        "  fnames = os.listdir(letter_dir)[300:450]      #gives random elements from list\n",
        "  new_path = os.path.join(valid_dir,letter)\n",
        "  if not os.path.exists(new_path):\n",
        "    os.mkdir(new_path)\n",
        "  for fname in fnames:\n",
        "    file_path = os.path.join(letter_dir,fname)\n",
        "    new_file_path = os.path.join(new_path,fname)\n",
        "    shutil.copy(file_path,new_file_path)"
      ],
      "execution_count": 0,
      "outputs": []
    },
    {
      "cell_type": "code",
      "metadata": {
        "id": "31oe0aLNTACQ",
        "colab_type": "code",
        "colab": {}
      },
      "source": [
        "for letter in os.listdir(data_dir):\n",
        "  letter_dir = os.path.join(data_dir,letter)\n",
        "  fnames = os.listdir(letter_dir)[-150:]      #gives random elements from list\n",
        "  new_path = os.path.join(test_dir,letter)\n",
        "  if not os.path.exists(new_path):\n",
        "    os.mkdir(new_path)\n",
        "  for fname in fnames:\n",
        "    file_path = os.path.join(letter_dir,fname)\n",
        "    new_file_path = os.path.join(new_path,fname)\n",
        "    shutil.copy(file_path,new_file_path)"
      ],
      "execution_count": 0,
      "outputs": []
    },
    {
      "cell_type": "code",
      "metadata": {
        "id": "SEiClD2CXHTn",
        "colab_type": "code",
        "colab": {}
      },
      "source": [
        "datagen = ImageDataGenerator(rescale=1./255)\n"
      ],
      "execution_count": 0,
      "outputs": []
    },
    {
      "cell_type": "code",
      "metadata": {
        "id": "XWws2QYRXcE5",
        "colab_type": "code",
        "outputId": "4e45f817-c2c1-4912-a5a1-eb4aeb45c56c",
        "colab": {
          "base_uri": "https://localhost:8080/",
          "height": 68
        }
      },
      "source": [
        "train_data = datagen.flow_from_directory(train_dir,target_size=(224,224),batch_size=64)\n",
        "valid_data = datagen.flow_from_directory(valid_dir,target_size=(224,224),batch_size=64)\n",
        "test_data = datagen.flow_from_directory(test_dir,target_size=(224,224),batch_size=64)"
      ],
      "execution_count": 0,
      "outputs": [
        {
          "output_type": "stream",
          "text": [
            "Found 7200 images belonging to 24 classes.\n",
            "Found 3600 images belonging to 24 classes.\n",
            "Found 3600 images belonging to 24 classes.\n"
          ],
          "name": "stdout"
        }
      ]
    },
    {
      "cell_type": "markdown",
      "metadata": {
        "id": "-mor1GCFM9DL",
        "colab_type": "text"
      },
      "source": [
        "# Maxhine Learning\n",
        "## Logistic Regression"
      ]
    },
    {
      "cell_type": "code",
      "metadata": {
        "id": "qHU6prTKc89K",
        "colab_type": "code",
        "colab": {}
      },
      "source": [
        "model0 = models.Sequential()\n",
        "model0.add(layers.Flatten(input_shape=(224,224,3)))\n",
        "model0.add(layers.Dense(24,activation='softmax'))"
      ],
      "execution_count": 0,
      "outputs": []
    },
    {
      "cell_type": "code",
      "metadata": {
        "id": "rkfiIXOPOIQA",
        "colab_type": "code",
        "colab": {}
      },
      "source": [
        "model0.compile(loss='categorical_crossentropy',optimizer='sgd', metrics = ['acc'])"
      ],
      "execution_count": 0,
      "outputs": []
    },
    {
      "cell_type": "code",
      "metadata": {
        "id": "GLrZlS5COgHH",
        "colab_type": "code",
        "outputId": "f719cb3d-71e9-4ed4-f095-2aff76718440",
        "colab": {
          "base_uri": "https://localhost:8080/",
          "height": 377
        }
      },
      "source": [
        "history = model0.fit_generator(train_data,\n",
        "                     steps_per_epoch=7200//64,\n",
        "                     validation_data=valid_data,\n",
        "                     validation_steps=3600//64,\n",
        "                     epochs=10)"
      ],
      "execution_count": 0,
      "outputs": [
        {
          "output_type": "stream",
          "text": [
            "Epoch 1/10\n",
            "112/112 [==============================] - 17s 153ms/step - loss: 14.6967 - acc: 0.0658 - val_loss: 14.7612 - val_acc: 0.0803\n",
            "Epoch 2/10\n",
            "112/112 [==============================] - 15s 137ms/step - loss: 14.8353 - acc: 0.0766 - val_loss: 14.7473 - val_acc: 0.0834\n",
            "Epoch 3/10\n",
            "112/112 [==============================] - 17s 148ms/step - loss: 14.7693 - acc: 0.0811 - val_loss: 14.8814 - val_acc: 0.0659\n",
            "Epoch 4/10\n",
            "112/112 [==============================] - 15s 136ms/step - loss: 14.7865 - acc: 0.0801 - val_loss: 14.8155 - val_acc: 0.0792\n",
            "Epoch 5/10\n",
            "112/112 [==============================] - 15s 137ms/step - loss: 14.8067 - acc: 0.0794 - val_loss: 14.7934 - val_acc: 0.0798\n",
            "Epoch 6/10\n",
            "112/112 [==============================] - 15s 137ms/step - loss: 14.8244 - acc: 0.0783 - val_loss: 14.7393 - val_acc: 0.0812\n",
            "Epoch 7/10\n",
            "112/112 [==============================] - 15s 137ms/step - loss: 14.7715 - acc: 0.0822 - val_loss: 14.8104 - val_acc: 0.0786\n",
            "Epoch 8/10\n",
            "112/112 [==============================] - 17s 148ms/step - loss: 14.7219 - acc: 0.0859 - val_loss: 14.7147 - val_acc: 0.0854\n",
            "Epoch 9/10\n",
            "112/112 [==============================] - 15s 136ms/step - loss: 14.8152 - acc: 0.0808 - val_loss: 14.9035 - val_acc: 0.0738\n",
            "Epoch 10/10\n",
            "112/112 [==============================] - 15s 137ms/step - loss: 14.7701 - acc: 0.0836 - val_loss: 14.7252 - val_acc: 0.0851\n"
          ],
          "name": "stdout"
        }
      ]
    },
    {
      "cell_type": "code",
      "metadata": {
        "id": "Kfznz3AfPHzo",
        "colab_type": "code",
        "outputId": "8cbac7d5-9948-474a-e914-01fea1f943c2",
        "colab": {
          "base_uri": "https://localhost:8080/",
          "height": 545
        }
      },
      "source": [
        "acc = history.history['acc']\n",
        "val_acc = history.history['val_acc']\n",
        "loss = history.history['loss']\n",
        "val_loss = history.history['val_loss']\n",
        "epochs = range(1, len(acc) + 1)\n",
        "plt.plot(epochs, acc, 'bo', label='Training acc')\n",
        "plt.plot(epochs, val_acc, 'b', label='Validation acc')\n",
        "plt.title('Training and validation accuracy')\n",
        "plt.legend()\n",
        "plt.figure()\n",
        "plt.plot(epochs, loss, 'bo', label='Training loss')\n",
        "plt.plot(epochs, val_loss, 'b', label='Validation loss')\n",
        "plt.title('Training and validation loss')\n",
        "plt.legend()\n",
        "plt.show()"
      ],
      "execution_count": 0,
      "outputs": [
        {
          "output_type": "display_data",
          "data": {
            "image/png": "[encoded data removed]",
            "text/plain": [
              "<Figure size 432x288 with 1 Axes>"
            ]
          },
          "metadata": {
            "tags": []
          }
        },
        {
          "output_type": "display_data",
          "data": {
            "image/png": "[encoded data removed]",
            "text/plain": [
              "<Figure size 432x288 with 1 Axes>"
            ]
          },
          "metadata": {
            "tags": []
          }
        }
      ]
    },
    {
      "cell_type": "code",
      "metadata": {
        "id": "595YuGB2TkNZ",
        "colab_type": "code",
        "outputId": "acc5f9ff-8d4f-49d0-d7fe-331e42397c11",
        "colab": {
          "base_uri": "https://localhost:8080/",
          "height": 34
        }
      },
      "source": [
        "model0.evaluate_generator(test_data,steps=3600//64)"
      ],
      "execution_count": 0,
      "outputs": [
        {
          "output_type": "execute_result",
          "data": {
            "text/plain": [
              "[14.790607085594765, 0.08088235294117647]"
            ]
          },
          "metadata": {
            "tags": []
          },
          "execution_count": 64
        }
      ]
    },
    {
      "cell_type": "markdown",
      "metadata": {
        "id": "Dq62WsdNQXC1",
        "colab_type": "text"
      },
      "source": [
        "# Deep Learning \n",
        "## Small 5 Layer CNN without dropout"
      ]
    },
    {
      "cell_type": "code",
      "metadata": {
        "id": "06tKcATFQNld",
        "colab_type": "code",
        "colab": {}
      },
      "source": [
        "model1 = models.Sequential()\n",
        "\n",
        "model1.add(layers.Conv2D(32,(5,5),activation='relu',input_shape=(224,224,3)))\n",
        "model1.add(layers.MaxPooling2D((2,2)))\n",
        "model1.add(layers.Conv2D(64,(5,5),activation='relu'))\n",
        "model1.add(layers.MaxPooling2D((2,2)))\n",
        "model1.add(layers.Conv2D(64,(5,5),activation='relu'))\n",
        "model1.add(layers.MaxPooling2D((2,2)))\n",
        "model1.add(layers.Conv2D(128,(5,5),activation='relu'))\n",
        "model1.add(layers.MaxPooling2D((2,2)))\n",
        "model1.add(layers.Flatten())\n",
        "model1.add(layers.Dense(24,activation='softmax'))"
      ],
      "execution_count": 0,
      "outputs": []
    },
    {
      "cell_type": "code",
      "metadata": {
        "id": "niw1UPKkRq1r",
        "colab_type": "code",
        "colab": {}
      },
      "source": [
        "model1.compile(loss='categorical_crossentropy',optimizer='adam', metrics = ['acc'])"
      ],
      "execution_count": 0,
      "outputs": []
    },
    {
      "cell_type": "code",
      "metadata": {
        "id": "DEb1d_CxSzFC",
        "colab_type": "code",
        "outputId": "8b4b8a2d-85f8-4058-e65f-12eb32337f9a",
        "colab": {
          "base_uri": "https://localhost:8080/",
          "height": 377
        }
      },
      "source": [
        "history = model0.fit_generator(train_data,\n",
        "                     steps_per_epoch=7200//64,\n",
        "                     validation_data=valid_data,\n",
        "                     validation_steps=3600//64,\n",
        "                     epochs=10)"
      ],
      "execution_count": 0,
      "outputs": [
        {
          "output_type": "stream",
          "text": [
            "Epoch 1/10\n",
            "112/112 [==============================] - 18s 163ms/step - loss: 14.7610 - acc: 0.0840 - val_loss: 14.8474 - val_acc: 0.0775\n",
            "Epoch 2/10\n",
            "112/112 [==============================] - 15s 138ms/step - loss: 14.8012 - acc: 0.0816 - val_loss: 14.6982 - val_acc: 0.0857\n",
            "Epoch 3/10\n",
            "112/112 [==============================] - 17s 148ms/step - loss: 14.7737 - acc: 0.0834 - val_loss: 14.7967 - val_acc: 0.0809\n",
            "Epoch 4/10\n",
            "112/112 [==============================] - 15s 137ms/step - loss: 14.7742 - acc: 0.0831 - val_loss: 14.7858 - val_acc: 0.0812\n",
            "Epoch 5/10\n",
            "112/112 [==============================] - 15s 137ms/step - loss: 14.7582 - acc: 0.0843 - val_loss: 14.7902 - val_acc: 0.0809\n",
            "Epoch 6/10\n",
            "112/112 [==============================] - 16s 143ms/step - loss: 14.7782 - acc: 0.0831 - val_loss: 14.7599 - val_acc: 0.0823\n",
            "Epoch 7/10\n",
            "112/112 [==============================] - 15s 137ms/step - loss: 14.7310 - acc: 0.0861 - val_loss: 14.7271 - val_acc: 0.0848\n",
            "Epoch 8/10\n",
            "112/112 [==============================] - 17s 149ms/step - loss: 14.7736 - acc: 0.0834 - val_loss: 14.7829 - val_acc: 0.0814\n",
            "Epoch 9/10\n",
            "112/112 [==============================] - 15s 137ms/step - loss: 14.8455 - acc: 0.0790 - val_loss: 14.8613 - val_acc: 0.0766\n",
            "Epoch 10/10\n",
            "112/112 [==============================] - 15s 137ms/step - loss: 14.7219 - acc: 0.0866 - val_loss: 14.7222 - val_acc: 0.0848\n"
          ],
          "name": "stdout"
        }
      ]
    },
    {
      "cell_type": "code",
      "metadata": {
        "id": "f2xPHzCvS3rv",
        "colab_type": "code",
        "outputId": "107c3570-bcde-4115-83ae-1ffda6c79d64",
        "colab": {
          "base_uri": "https://localhost:8080/",
          "height": 545
        }
      },
      "source": [
        "acc = history.history['acc']\n",
        "val_acc = history.history['val_acc']\n",
        "loss = history.history['loss']\n",
        "val_loss = history.history['val_loss']\n",
        "epochs = range(1, len(acc) + 1)\n",
        "plt.plot(epochs, acc, 'bo', label='Training acc')\n",
        "plt.plot(epochs, val_acc, 'b', label='Validation acc')\n",
        "plt.title('Training and validation accuracy')\n",
        "plt.legend()\n",
        "plt.figure()\n",
        "plt.plot(epochs, loss, 'bo', label='Training loss')\n",
        "plt.plot(epochs, val_loss, 'b', label='Validation loss')\n",
        "plt.title('Training and validation loss')\n",
        "plt.legend()\n",
        "plt.show()"
      ],
      "execution_count": 0,
      "outputs": [
        {
          "output_type": "display_data",
          "data": {
            "image/png": "[encoded data removed]",
            "text/plain": [
              "<Figure size 432x288 with 1 Axes>"
            ]
          },
          "metadata": {
            "tags": []
          }
        },
        {
          "output_type": "display_data",
          "data": {
            "image/png": "[encoded data removed]",
            "text/plain": [
              "<Figure size 432x288 with 1 Axes>"
            ]
          },
          "metadata": {
            "tags": []
          }
        }
      ]
    },
    {
      "cell_type": "code",
      "metadata": {
        "id": "uJN6m5XpT2ln",
        "colab_type": "code",
        "outputId": "afafdb89-8317-4e78-acc0-4ddd35c2171f",
        "colab": {
          "base_uri": "https://localhost:8080/",
          "height": 34
        }
      },
      "source": [
        "model1.evaluate_generator(test_data,steps=3600//64)"
      ],
      "execution_count": 0,
      "outputs": [
        {
          "output_type": "execute_result",
          "data": {
            "text/plain": [
              "[3.1807854898375085, 0.02771493212669683]"
            ]
          },
          "metadata": {
            "tags": []
          },
          "execution_count": 69
        }
      ]
    },
    {
      "cell_type": "markdown",
      "metadata": {
        "id": "At90p-0-URxT",
        "colab_type": "text"
      },
      "source": [
        "## Larger 10 Layer Model"
      ]
    },
    {
      "cell_type": "markdown",
      "metadata": {
        "id": "KU76NLG8PSSI",
        "colab_type": "text"
      },
      "source": [
        "### Activation Function\n",
        "I changed activation function from \"relu\" ---> ''tanh'' to check the difference in learning."
      ]
    },
    {
      "cell_type": "code",
      "metadata": {
        "id": "SRgLHw80T-oc",
        "colab_type": "code",
        "colab": {}
      },
      "source": [
        "model2 = models.Sequential()\n",
        "\n",
        "model2.add(layers.Conv2D(32,(3,3),activation='tanh',input_shape=(224,224,3)))\n",
        "model2.add(layers.MaxPooling2D((2,2)))\n",
        "model2.add(layers.Conv2D(64,(3,3),activation='tanh'))\n",
        "model2.add(layers.MaxPooling2D((2,2)))\n",
        "model2.add(layers.Conv2D(64,(3,3),activation='tanh'))\n",
        "model2.add(layers.MaxPooling2D((2,2)))\n",
        "model2.add(layers.Conv2D(128,(3,3),activation='tanh'))\n",
        "model2.add(layers.MaxPooling2D((2,2)))\n",
        "\n",
        "model2.add(layers.Conv2D(64,(3,3),activation='tanh'))\n",
        "model2.add(layers.MaxPooling2D((2,2)))\n",
        "model2.add(layers.Conv2D(128,(3,3),activation='tanh'))\n",
        "model2.add(layers.MaxPooling2D((2,2)))\n",
        "model2.add(layers.Flatten())\n",
        "model2.add(layers.Dense(128,activation='tanh'))\n",
        "model2.add(layers.Dense(24,activation='softmax'))"
      ],
      "execution_count": 0,
      "outputs": []
    },
    {
      "cell_type": "code",
      "metadata": {
        "id": "KF6_hvmsVMBS",
        "colab_type": "code",
        "outputId": "9e565446-4ee1-4ba6-8f4d-d8db7f3f3451",
        "colab": {
          "base_uri": "https://localhost:8080/",
          "height": 646
        }
      },
      "source": [
        "model2.summary()"
      ],
      "execution_count": 0,
      "outputs": [
        {
          "output_type": "stream",
          "text": [
            "_________________________________________________________________\n",
            "Layer (type)                 Output Shape              Param #   \n",
            "=================================================================\n",
            "conv2d_19 (Conv2D)           (None, 222, 222, 32)      896       \n",
            "_________________________________________________________________\n",
            "max_pooling2d_19 (MaxPooling (None, 111, 111, 32)      0         \n",
            "_________________________________________________________________\n",
            "conv2d_20 (Conv2D)           (None, 109, 109, 64)      18496     \n",
            "_________________________________________________________________\n",
            "max_pooling2d_20 (MaxPooling (None, 54, 54, 64)        0         \n",
            "_________________________________________________________________\n",
            "conv2d_21 (Conv2D)           (None, 52, 52, 64)        36928     \n",
            "_________________________________________________________________\n",
            "max_pooling2d_21 (MaxPooling (None, 26, 26, 64)        0         \n",
            "_________________________________________________________________\n",
            "conv2d_22 (Conv2D)           (None, 24, 24, 128)       73856     \n",
            "_________________________________________________________________\n",
            "max_pooling2d_22 (MaxPooling (None, 12, 12, 128)       0         \n",
            "_________________________________________________________________\n",
            "conv2d_23 (Conv2D)           (None, 10, 10, 64)        73792     \n",
            "_________________________________________________________________\n",
            "max_pooling2d_23 (MaxPooling (None, 5, 5, 64)          0         \n",
            "_________________________________________________________________\n",
            "conv2d_24 (Conv2D)           (None, 3, 3, 128)         73856     \n",
            "_________________________________________________________________\n",
            "max_pooling2d_24 (MaxPooling (None, 1, 1, 128)         0         \n",
            "_________________________________________________________________\n",
            "flatten_2 (Flatten)          (None, 128)               0         \n",
            "_________________________________________________________________\n",
            "dense_7 (Dense)              (None, 128)               16512     \n",
            "_________________________________________________________________\n",
            "dense_8 (Dense)              (None, 24)                3096      \n",
            "=================================================================\n",
            "Total params: 297,432\n",
            "Trainable params: 297,432\n",
            "Non-trainable params: 0\n",
            "_________________________________________________________________\n"
          ],
          "name": "stdout"
        }
      ]
    },
    {
      "cell_type": "code",
      "metadata": {
        "id": "W46b0cmjVP4v",
        "colab_type": "code",
        "colab": {}
      },
      "source": [
        "model2.compile(loss='categorical_crossentropy',optimizer='adam',metrics=['acc'])"
      ],
      "execution_count": 0,
      "outputs": []
    },
    {
      "cell_type": "code",
      "metadata": {
        "id": "A_KBi4CmL5q5",
        "colab_type": "code",
        "outputId": "46af1354-ce7c-40f3-dd92-26d0607eeca0",
        "colab": {
          "base_uri": "https://localhost:8080/",
          "height": 377
        }
      },
      "source": [
        "valid_step = 3600//64\n",
        "train_step = 7200//64\n",
        "history = model2.fit_generator(train_data,\n",
        "                     epochs=10,\n",
        "                     steps_per_epoch=train_step,\n",
        "                     validation_steps=valid_step,\n",
        "                     validation_data=valid_data)"
      ],
      "execution_count": 0,
      "outputs": [
        {
          "output_type": "stream",
          "text": [
            "Epoch 1/10\n",
            "112/112 [==============================] - 21s 186ms/step - loss: 2.0197 - acc: 0.4043 - val_loss: 1.0183 - val_acc: 0.7096\n",
            "Epoch 2/10\n",
            "112/112 [==============================] - 19s 172ms/step - loss: 0.6956 - acc: 0.8103 - val_loss: 0.5244 - val_acc: 0.8544\n",
            "Epoch 3/10\n",
            "112/112 [==============================] - 18s 162ms/step - loss: 0.3506 - acc: 0.9121 - val_loss: 0.2993 - val_acc: 0.9290\n",
            "Epoch 4/10\n",
            "112/112 [==============================] - 18s 162ms/step - loss: 0.1866 - acc: 0.9621 - val_loss: 0.2245 - val_acc: 0.9446\n",
            "Epoch 5/10\n",
            "112/112 [==============================] - 18s 162ms/step - loss: 0.1071 - acc: 0.9812 - val_loss: 0.1999 - val_acc: 0.9429\n",
            "Epoch 6/10\n",
            "112/112 [==============================] - 19s 172ms/step - loss: 0.0507 - acc: 0.9940 - val_loss: 0.1573 - val_acc: 0.9567\n",
            "Epoch 7/10\n",
            "112/112 [==============================] - 18s 164ms/step - loss: 0.0296 - acc: 0.9979 - val_loss: 0.1382 - val_acc: 0.9627\n",
            "Epoch 8/10\n",
            "112/112 [==============================] - 18s 161ms/step - loss: 0.0124 - acc: 1.0000 - val_loss: 0.1203 - val_acc: 0.9655\n",
            "Epoch 9/10\n",
            "112/112 [==============================] - 19s 165ms/step - loss: 0.0078 - acc: 1.0000 - val_loss: 0.1308 - val_acc: 0.9610\n",
            "Epoch 10/10\n",
            "112/112 [==============================] - 19s 166ms/step - loss: 0.0058 - acc: 1.0000 - val_loss: 0.1122 - val_acc: 0.9692\n"
          ],
          "name": "stdout"
        }
      ]
    },
    {
      "cell_type": "code",
      "metadata": {
        "id": "7Ftp5XAjMo9e",
        "colab_type": "code",
        "outputId": "31119bdd-66d6-44a5-fe80-e2c6b9f9186a",
        "colab": {
          "base_uri": "https://localhost:8080/",
          "height": 545
        }
      },
      "source": [
        "acc = history.history['acc']\n",
        "val_acc = history.history['val_acc']\n",
        "loss = history.history['loss']\n",
        "val_loss = history.history['val_loss']\n",
        "epochs = range(1, len(acc) + 1)\n",
        "plt.plot(epochs, acc, 'bo', label='Training acc')\n",
        "plt.plot(epochs, val_acc, 'b', label='Validation acc')\n",
        "plt.title('Training and validation accuracy')\n",
        "plt.legend()\n",
        "plt.figure()\n",
        "plt.plot(epochs, loss, 'bo', label='Training loss')\n",
        "plt.plot(epochs, val_loss, 'b', label='Validation loss')\n",
        "plt.title('Training and validation loss')\n",
        "plt.legend()\n",
        "plt.show()"
      ],
      "execution_count": 0,
      "outputs": [
        {
          "output_type": "display_data",
          "data": {
            "image/png": "[encoded data removed]",
            "text/plain": [
              "<Figure size 432x288 with 1 Axes>"
            ]
          },
          "metadata": {
            "tags": []
          }
        },
        {
          "output_type": "display_data",
          "data": {
            "image/png": "[encoded data removed]",
            "text/plain": [
              "<Figure size 432x288 with 1 Axes>"
            ]
          },
          "metadata": {
            "tags": []
          }
        }
      ]
    },
    {
      "cell_type": "markdown",
      "metadata": {
        "id": "BnA-MSYMPnaI",
        "colab_type": "text"
      },
      "source": [
        "**Looks like Tanh works much better**\n",
        "\n",
        "\n",
        "Let's test this model on Test Data"
      ]
    },
    {
      "cell_type": "code",
      "metadata": {
        "id": "IirZ9w8HOtpI",
        "colab_type": "code",
        "outputId": "ec98bfb0-138c-4684-c78d-1bcb29da60a3",
        "colab": {
          "base_uri": "https://localhost:8080/",
          "height": 34
        }
      },
      "source": [
        "model2.evaluate_generator(test_data,steps=valid_step) # since valid_data & test_data sizes are equals  "
      ],
      "execution_count": 0,
      "outputs": [
        {
          "output_type": "execute_result",
          "data": {
            "text/plain": [
              "[0.12941899306939117, 0.9642857142857143]"
            ]
          },
          "metadata": {
            "tags": []
          },
          "execution_count": 29
        }
      ]
    },
    {
      "cell_type": "markdown",
      "metadata": {
        "id": "j1OeTGTDQWnd",
        "colab_type": "text"
      },
      "source": [
        "**Wow test accuracy is 96% looks like tanh worked great**"
      ]
    },
    {
      "cell_type": "markdown",
      "metadata": {
        "id": "ngdT4IntQoiN",
        "colab_type": "text"
      },
      "source": [
        "## Large model with Dropout\n",
        "lets build the same model with dropout"
      ]
    },
    {
      "cell_type": "code",
      "metadata": {
        "id": "lYZ9cvqVQQ8Q",
        "colab_type": "code",
        "outputId": "e27a74f1-1fe5-4277-cdb3-ebc89b9d92d2",
        "colab": {
          "base_uri": "https://localhost:8080/",
          "height": 88
        }
      },
      "source": [
        "\"\"\"\n",
        "We have 6 Conv2D layers lets add DropOut to 3 of them\n",
        "\"\"\"\n",
        "\n",
        "model3 = models.Sequential()\n",
        "\n",
        "model3.add(layers.Conv2D(32,(3,3),activation='tanh',input_shape=(224,224,3)))\n",
        "model3.add(layers.MaxPooling2D((2,2)))\n",
        "model3.add(layers.Conv2D(64,(3,3),activation='tanh'))\n",
        "model3.add(layers.Dropout(rate=0.2)) # as 0.2 is always a good choice to start\n",
        "model3.add(layers.MaxPooling2D((2,2)))\n",
        "model3.add(layers.Conv2D(64,(3,3),activation='tanh'))\n",
        "model3.add(layers.MaxPooling2D((2,2)))\n",
        "model3.add(layers.Conv2D(128,(3,3),activation='tanh'))\n",
        "model3.add(layers.Dropout(rate=0.2))\n",
        "model3.add(layers.MaxPooling2D((2,2)))\n",
        "\n",
        "model3.add(layers.Conv2D(64,(3,3),activation='tanh'))\n",
        "model3.add(layers.MaxPooling2D((2,2)))\n",
        "model3.add(layers.Conv2D(128,(3,3),activation='tanh'))\n",
        "model3.add(layers.Dropout(rate=0.2))\n",
        "model3.add(layers.MaxPooling2D((2,2)))\n",
        "model3.add(layers.Flatten())\n",
        "model3.add(layers.Dense(128,activation='tanh'))\n",
        "model3.add(layers.Dense(24,activation='softmax'))"
      ],
      "execution_count": 0,
      "outputs": [
        {
          "output_type": "stream",
          "text": [
            "WARNING:tensorflow:From /usr/local/lib/python3.6/dist-packages/keras/backend/tensorflow_backend.py:3445: calling dropout (from tensorflow.python.ops.nn_ops) with keep_prob is deprecated and will be removed in a future version.\n",
            "Instructions for updating:\n",
            "Please use `rate` instead of `keep_prob`. Rate should be set to `rate = 1 - keep_prob`.\n"
          ],
          "name": "stdout"
        }
      ]
    },
    {
      "cell_type": "code",
      "metadata": {
        "id": "7rhAEADUSQC7",
        "colab_type": "code",
        "colab": {}
      },
      "source": [
        "model3.compile(loss='categorical_crossentropy',optimizer='adam',metrics=['acc'])"
      ],
      "execution_count": 0,
      "outputs": []
    },
    {
      "cell_type": "code",
      "metadata": {
        "id": "Qqxz1NKISfRU",
        "colab_type": "code",
        "outputId": "3f43794c-807f-46fa-a407-855844736e29",
        "colab": {
          "base_uri": "https://localhost:8080/",
          "height": 377
        }
      },
      "source": [
        "history = model3.fit_generator(train_data,\n",
        "                     epochs=10,\n",
        "                     steps_per_epoch=train_step,\n",
        "                     validation_steps=valid_step,\n",
        "                     validation_data=valid_data)"
      ],
      "execution_count": 0,
      "outputs": [
        {
          "output_type": "stream",
          "text": [
            "Epoch 1/10\n",
            "112/112 [==============================] - 21s 190ms/step - loss: 2.3981 - acc: 0.2882 - val_loss: 1.4262 - val_acc: 0.5707\n",
            "Epoch 2/10\n",
            "112/112 [==============================] - 20s 176ms/step - loss: 0.9610 - acc: 0.7289 - val_loss: 0.8953 - val_acc: 0.7265\n",
            "Epoch 3/10\n",
            "112/112 [==============================] - 20s 182ms/step - loss: 0.5229 - acc: 0.8622 - val_loss: 0.8557 - val_acc: 0.7537\n",
            "Epoch 4/10\n",
            "112/112 [==============================] - 20s 175ms/step - loss: 0.3729 - acc: 0.8991 - val_loss: 0.6017 - val_acc: 0.8187\n",
            "Epoch 5/10\n",
            "112/112 [==============================] - 20s 175ms/step - loss: 0.2677 - acc: 0.9295 - val_loss: 0.7950 - val_acc: 0.7489\n",
            "Epoch 6/10\n",
            "112/112 [==============================] - 20s 175ms/step - loss: 0.1869 - acc: 0.9515 - val_loss: 0.6882 - val_acc: 0.7732\n",
            "Epoch 7/10\n",
            "112/112 [==============================] - 20s 183ms/step - loss: 0.1669 - acc: 0.9583 - val_loss: 0.9167 - val_acc: 0.7166\n",
            "Epoch 8/10\n",
            "112/112 [==============================] - 20s 175ms/step - loss: 0.1222 - acc: 0.9679 - val_loss: 0.6303 - val_acc: 0.8049\n",
            "Epoch 9/10\n",
            "112/112 [==============================] - 19s 174ms/step - loss: 0.0915 - acc: 0.9782 - val_loss: 0.7603 - val_acc: 0.7644\n",
            "Epoch 10/10\n",
            "112/112 [==============================] - 19s 174ms/step - loss: 0.0716 - acc: 0.9835 - val_loss: 0.6456 - val_acc: 0.8003\n"
          ],
          "name": "stdout"
        }
      ]
    },
    {
      "cell_type": "code",
      "metadata": {
        "id": "0Q_ZyJnmStQy",
        "colab_type": "code",
        "outputId": "adb46e52-81c5-4314-cf9b-d7579b13b0bd",
        "colab": {
          "base_uri": "https://localhost:8080/",
          "height": 545
        }
      },
      "source": [
        "acc = history.history['acc']\n",
        "val_acc = history.history['val_acc']\n",
        "loss = history.history['loss']\n",
        "val_loss = history.history['val_loss']\n",
        "epochs = range(1, len(acc) + 1)\n",
        "plt.plot(epochs, acc, 'bo', label='Training acc')\n",
        "plt.plot(epochs, val_acc, 'b', label='Validation acc')\n",
        "plt.title('Training and validation accuracy')\n",
        "plt.legend()\n",
        "plt.figure()\n",
        "plt.plot(epochs, loss, 'bo', label='Training loss')\n",
        "plt.plot(epochs, val_loss, 'b', label='Validation loss')\n",
        "plt.title('Training and validation loss')\n",
        "plt.legend()\n",
        "plt.show()"
      ],
      "execution_count": 0,
      "outputs": [
        {
          "output_type": "display_data",
          "data": {
            "image/png": "[encoded data removed]",
            "text/plain": [
              "<Figure size 432x288 with 1 Axes>"
            ]
          },
          "metadata": {
            "tags": []
          }
        },
        {
          "output_type": "display_data",
          "data": {
            "image/png": "[encoded data removed]",
            "text/plain": [
              "<Figure size 432x288 with 1 Axes>"
            ]
          },
          "metadata": {
            "tags": []
          }
        }
      ]
    },
    {
      "cell_type": "markdown",
      "metadata": {
        "id": "ekR1gxBzTopG",
        "colab_type": "text"
      },
      "source": [
        "**Didn't work that good lets change dropout rate**"
      ]
    },
    {
      "cell_type": "code",
      "metadata": {
        "id": "BlMNuJ7_S_cS",
        "colab_type": "code",
        "colab": {}
      },
      "source": [
        "\"\"\"\n",
        "Changing dropout rate 0.2 --> 0.5\n",
        "\"\"\"\n",
        "\n",
        "model3 = models.Sequential()\n",
        "\n",
        "model3.add(layers.Conv2D(32,(3,3),activation='tanh',input_shape=(224,224,3)))\n",
        "model3.add(layers.MaxPooling2D((2,2)))\n",
        "model3.add(layers.Conv2D(64,(3,3),activation='tanh'))\n",
        "model3.add(layers.Dropout(rate=0.5)) # 0.2 --> 0.5\n",
        "model3.add(layers.MaxPooling2D((2,2)))\n",
        "model3.add(layers.Conv2D(64,(3,3),activation='tanh'))\n",
        "model3.add(layers.MaxPooling2D((2,2)))\n",
        "model3.add(layers.Conv2D(128,(3,3),activation='tanh'))\n",
        "model3.add(layers.Dropout(rate=0.5))\n",
        "model3.add(layers.MaxPooling2D((2,2)))\n",
        "\n",
        "model3.add(layers.Conv2D(64,(3,3),activation='tanh'))\n",
        "model3.add(layers.MaxPooling2D((2,2)))\n",
        "model3.add(layers.Conv2D(128,(3,3),activation='tanh'))\n",
        "model3.add(layers.Dropout(rate=0.5))\n",
        "model3.add(layers.MaxPooling2D((2,2)))\n",
        "model3.add(layers.Flatten())\n",
        "model3.add(layers.Dense(128,activation='tanh'))\n",
        "model3.add(layers.Dense(24,activation='softmax'))"
      ],
      "execution_count": 0,
      "outputs": []
    },
    {
      "cell_type": "code",
      "metadata": {
        "id": "-pnkIKNZUT7f",
        "colab_type": "code",
        "outputId": "69e76bfe-9f61-489e-890b-7145959b2029",
        "colab": {
          "base_uri": "https://localhost:8080/",
          "height": 377
        }
      },
      "source": [
        "model3.compile(loss='categorical_crossentropy',optimizer='adam',metrics=['acc'])\n",
        "history = model3.fit_generator(train_data,\n",
        "                     epochs=10,\n",
        "                     steps_per_epoch=train_step,\n",
        "                     validation_steps=valid_step,\n",
        "                     validation_data=valid_data)"
      ],
      "execution_count": 0,
      "outputs": [
        {
          "output_type": "stream",
          "text": [
            "Epoch 1/10\n",
            "112/112 [==============================] - 22s 192ms/step - loss: 2.5715 - acc: 0.2195 - val_loss: 1.7476 - val_acc: 0.4907\n",
            "Epoch 2/10\n",
            "112/112 [==============================] - 20s 175ms/step - loss: 1.2217 - acc: 0.6342 - val_loss: 1.2950 - val_acc: 0.6270\n",
            "Epoch 3/10\n",
            "112/112 [==============================] - 20s 175ms/step - loss: 0.7708 - acc: 0.7769 - val_loss: 1.3605 - val_acc: 0.6250\n",
            "Epoch 4/10\n",
            "112/112 [==============================] - 20s 179ms/step - loss: 0.5506 - acc: 0.8379 - val_loss: 1.4487 - val_acc: 0.5970\n",
            "Epoch 5/10\n",
            "112/112 [==============================] - 20s 175ms/step - loss: 0.4378 - acc: 0.8753 - val_loss: 1.2623 - val_acc: 0.6397\n",
            "Epoch 6/10\n",
            "112/112 [==============================] - 20s 174ms/step - loss: 0.3316 - acc: 0.9042 - val_loss: 1.5279 - val_acc: 0.5962\n",
            "Epoch 7/10\n",
            "112/112 [==============================] - 20s 174ms/step - loss: 0.3220 - acc: 0.9056 - val_loss: 1.7452 - val_acc: 0.5472\n",
            "Epoch 8/10\n",
            "112/112 [==============================] - 20s 183ms/step - loss: 0.2686 - acc: 0.9205 - val_loss: 1.4727 - val_acc: 0.5959\n",
            "Epoch 9/10\n",
            "112/112 [==============================] - 20s 175ms/step - loss: 0.2166 - acc: 0.9382 - val_loss: 1.4899 - val_acc: 0.5950\n",
            "Epoch 10/10\n",
            "112/112 [==============================] - 20s 174ms/step - loss: 0.2251 - acc: 0.9283 - val_loss: 2.1072 - val_acc: 0.5074\n"
          ],
          "name": "stdout"
        }
      ]
    },
    {
      "cell_type": "code",
      "metadata": {
        "id": "hqTT_jBYUeCF",
        "colab_type": "code",
        "outputId": "5cf56409-f71e-4950-c5ef-2cf78377acac",
        "colab": {
          "base_uri": "https://localhost:8080/",
          "height": 545
        }
      },
      "source": [
        "acc = history.history['acc']\n",
        "val_acc = history.history['val_acc']\n",
        "loss = history.history['loss']\n",
        "val_loss = history.history['val_loss']\n",
        "epochs = range(1, len(acc) + 1)\n",
        "plt.plot(epochs, acc, 'bo', label='Training acc')\n",
        "plt.plot(epochs, val_acc, 'b', label='Validation acc')\n",
        "plt.title('Training and validation accuracy')\n",
        "plt.legend()\n",
        "plt.figure()\n",
        "plt.plot(epochs, loss, 'bo', label='Training loss')\n",
        "plt.plot(epochs, val_loss, 'b', label='Validation loss')\n",
        "plt.title('Training and validation loss')\n",
        "plt.legend()\n",
        "plt.show()"
      ],
      "execution_count": 0,
      "outputs": [
        {
          "output_type": "display_data",
          "data": {
            "image/png": "[encoded data removed]",
            "text/plain": [
              "<Figure size 432x288 with 1 Axes>"
            ]
          },
          "metadata": {
            "tags": []
          }
        },
        {
          "output_type": "display_data",
          "data": {
            "image/png": "[encoded data removed]",
            "text/plain": [
              "<Figure size 432x288 with 1 Axes>"
            ]
          },
          "metadata": {
            "tags": []
          }
        }
      ]
    },
    {
      "cell_type": "markdown",
      "metadata": {
        "id": "rANF5XKdVYcA",
        "colab_type": "text"
      },
      "source": [
        "**Clearly it didn't work but lets check out on test data**"
      ]
    },
    {
      "cell_type": "code",
      "metadata": {
        "id": "6mp_VF6rVT5A",
        "colab_type": "code",
        "outputId": "a16025ee-d56e-43ac-8741-c18649b3d92b",
        "colab": {
          "base_uri": "https://localhost:8080/",
          "height": 34
        }
      },
      "source": [
        "model3.evaluate_generator(test_data,steps=valid_step)"
      ],
      "execution_count": 0,
      "outputs": [
        {
          "output_type": "execute_result",
          "data": {
            "text/plain": [
              "[2.0853606462478638, 0.5062217194570136]"
            ]
          },
          "metadata": {
            "tags": []
          },
          "execution_count": 37
        }
      ]
    },
    {
      "cell_type": "markdown",
      "metadata": {
        "id": "IteZJchqV3yg",
        "colab_type": "text"
      },
      "source": [
        "**This worsen the performance**\n",
        "\n",
        "**Lets try decreasing the dropout rate**"
      ]
    },
    {
      "cell_type": "code",
      "metadata": {
        "id": "WmNmJbeXVyh9",
        "colab_type": "code",
        "colab": {}
      },
      "source": [
        "\"\"\"\n",
        "Changing dropout rate 0.2 --> 0.14\n",
        "\"\"\"\n",
        "\n",
        "model3 = models.Sequential()\n",
        "\n",
        "model3.add(layers.Conv2D(32,(3,3),activation='tanh',input_shape=(224,224,3)))\n",
        "model3.add(layers.MaxPooling2D((2,2)))\n",
        "model3.add(layers.Conv2D(64,(3,3),activation='tanh'))\n",
        "model3.add(layers.Dropout(rate=0.14)) # 0.2 --> 0.14\n",
        "model3.add(layers.MaxPooling2D((2,2)))\n",
        "model3.add(layers.Conv2D(64,(3,3),activation='tanh'))\n",
        "model3.add(layers.MaxPooling2D((2,2)))\n",
        "model3.add(layers.Conv2D(128,(3,3),activation='tanh'))\n",
        "model3.add(layers.Dropout(rate=0.14))\n",
        "model3.add(layers.MaxPooling2D((2,2)))\n",
        "\n",
        "model3.add(layers.Conv2D(64,(3,3),activation='tanh'))\n",
        "model3.add(layers.MaxPooling2D((2,2)))\n",
        "model3.add(layers.Conv2D(128,(3,3),activation='tanh'))\n",
        "model3.add(layers.Dropout(rate=0.14))\n",
        "model3.add(layers.MaxPooling2D((2,2)))\n",
        "model3.add(layers.Flatten())\n",
        "model3.add(layers.Dense(128,activation='tanh'))\n",
        "model3.add(layers.Dense(24,activation='softmax'))"
      ],
      "execution_count": 0,
      "outputs": []
    },
    {
      "cell_type": "code",
      "metadata": {
        "id": "bO4ibHDcWUm-",
        "colab_type": "code",
        "outputId": "3af4db13-1826-44d6-8f66-f50a19fb2d7d",
        "colab": {
          "base_uri": "https://localhost:8080/",
          "height": 377
        }
      },
      "source": [
        "model3.compile(loss='categorical_crossentropy',optimizer='adam',metrics=['acc'])\n",
        "history = model3.fit_generator(train_data,\n",
        "                     epochs=10,\n",
        "                     steps_per_epoch=train_step,\n",
        "                     validation_steps=valid_step,\n",
        "                     validation_data=valid_data)"
      ],
      "execution_count": 0,
      "outputs": [
        {
          "output_type": "stream",
          "text": [
            "Epoch 1/10\n",
            "112/112 [==============================] - 21s 189ms/step - loss: 2.2214 - acc: 0.3482 - val_loss: 1.2614 - val_acc: 0.6329\n",
            "Epoch 2/10\n",
            "112/112 [==============================] - 20s 176ms/step - loss: 0.8607 - acc: 0.7684 - val_loss: 0.9005 - val_acc: 0.7257\n",
            "Epoch 3/10\n",
            "112/112 [==============================] - 20s 177ms/step - loss: 0.5053 - acc: 0.8673 - val_loss: 0.6272 - val_acc: 0.8153\n",
            "Epoch 4/10\n",
            "112/112 [==============================] - 20s 178ms/step - loss: 0.2941 - acc: 0.9293 - val_loss: 0.5586 - val_acc: 0.8303\n",
            "Epoch 5/10\n",
            "112/112 [==============================] - 20s 175ms/step - loss: 0.2295 - acc: 0.9434 - val_loss: 0.4595 - val_acc: 0.8577\n",
            "Epoch 6/10\n",
            "112/112 [==============================] - 20s 175ms/step - loss: 0.1637 - acc: 0.9616 - val_loss: 0.4644 - val_acc: 0.8544\n",
            "Epoch 7/10\n",
            "112/112 [==============================] - 20s 175ms/step - loss: 0.1044 - acc: 0.9775 - val_loss: 0.4088 - val_acc: 0.8744\n",
            "Epoch 8/10\n",
            "112/112 [==============================] - 20s 178ms/step - loss: 0.0760 - acc: 0.9838 - val_loss: 0.4327 - val_acc: 0.8727\n",
            "Epoch 9/10\n",
            "112/112 [==============================] - 20s 175ms/step - loss: 0.0635 - acc: 0.9869 - val_loss: 0.3616 - val_acc: 0.8852\n",
            "Epoch 10/10\n",
            "112/112 [==============================] - 20s 175ms/step - loss: 0.0679 - acc: 0.9851 - val_loss: 0.2953 - val_acc: 0.9115\n"
          ],
          "name": "stdout"
        }
      ]
    },
    {
      "cell_type": "code",
      "metadata": {
        "id": "ePvgarnfWXW5",
        "colab_type": "code",
        "outputId": "608d44b4-e9ca-43ac-b9d9-60a4ab5e5037",
        "colab": {
          "base_uri": "https://localhost:8080/",
          "height": 545
        }
      },
      "source": [
        "acc = history.history['acc']\n",
        "val_acc = history.history['val_acc']\n",
        "loss = history.history['loss']\n",
        "val_loss = history.history['val_loss']\n",
        "epochs = range(1, len(acc) + 1)\n",
        "plt.plot(epochs, acc, 'bo', label='Training acc')\n",
        "plt.plot(epochs, val_acc, 'b', label='Validation acc')\n",
        "plt.title('Training and validation accuracy')\n",
        "plt.legend()\n",
        "plt.figure()\n",
        "plt.plot(epochs, loss, 'bo', label='Training loss')\n",
        "plt.plot(epochs, val_loss, 'b', label='Validation loss')\n",
        "plt.title('Training and validation loss')\n",
        "plt.legend()\n",
        "plt.show()"
      ],
      "execution_count": 0,
      "outputs": [
        {
          "output_type": "display_data",
          "data": {
            "image/png": "[encoded data removed]",
            "text/plain": [
              "<Figure size 432x288 with 1 Axes>"
            ]
          },
          "metadata": {
            "tags": []
          }
        },
        {
          "output_type": "display_data",
          "data": {
            "image/png": "[encoded data removed]",
            "text/plain": [
              "<Figure size 432x288 with 1 Axes>"
            ]
          },
          "metadata": {
            "tags": []
          }
        }
      ]
    },
    {
      "cell_type": "markdown",
      "metadata": {
        "id": "ECyzbU18XSp_",
        "colab_type": "text"
      },
      "source": [
        "**This works much better lets test the test data**"
      ]
    },
    {
      "cell_type": "code",
      "metadata": {
        "id": "McOPTOXxXOMh",
        "colab_type": "code",
        "outputId": "5eda382c-5d35-445a-c475-49f0367bddd4",
        "colab": {
          "base_uri": "https://localhost:8080/",
          "height": 34
        }
      },
      "source": [
        "model3.evaluate_generator(test_data,steps=valid_step)"
      ],
      "execution_count": 0,
      "outputs": [
        {
          "output_type": "execute_result",
          "data": {
            "text/plain": [
              "[0.2661470328520866, 0.9205316742081447]"
            ]
          },
          "metadata": {
            "tags": []
          },
          "execution_count": 41
        }
      ]
    },
    {
      "cell_type": "markdown",
      "metadata": {
        "id": "5lqIIb6zXeJ8",
        "colab_type": "text"
      },
      "source": [
        "**The second best accuracy so far 92%**"
      ]
    },
    {
      "cell_type": "markdown",
      "metadata": {
        "id": "zFaTfRIeYFaD",
        "colab_type": "text"
      },
      "source": [
        "# Now its time we check Transfer Learning with VGG16"
      ]
    },
    {
      "cell_type": "code",
      "metadata": {
        "id": "5Hq6D3JsXZ0p",
        "colab_type": "code",
        "colab": {}
      },
      "source": [
        "from keras.applications import VGG16\n"
      ],
      "execution_count": 0,
      "outputs": []
    },
    {
      "cell_type": "code",
      "metadata": {
        "id": "ROSxD92KYst8",
        "colab_type": "code",
        "outputId": "f9a5aa63-9ba4-44b1-bf75-f7b4e22f98d6",
        "colab": {
          "base_uri": "https://localhost:8080/",
          "height": 836
        }
      },
      "source": [
        "conv_base = VGG16(weights = 'imagenet',\n",
        "                  include_top = False,\n",
        "                  input_shape = (224,224,3))\n",
        "conv_base.summary()"
      ],
      "execution_count": 0,
      "outputs": [
        {
          "output_type": "stream",
          "text": [
            "Downloading data from https://github.com/fchollet/deep-learning-models/releases/download/v0.1/vgg16_weights_tf_dim_ordering_tf_kernels_notop.h5\n",
            "58892288/58889256 [==============================] - 1s 0us/step\n",
            "_________________________________________________________________\n",
            "Layer (type)                 Output Shape              Param #   \n",
            "=================================================================\n",
            "input_1 (InputLayer)         (None, 224, 224, 3)       0         \n",
            "_________________________________________________________________\n",
            "block1_conv1 (Conv2D)        (None, 224, 224, 64)      1792      \n",
            "_________________________________________________________________\n",
            "block1_conv2 (Conv2D)        (None, 224, 224, 64)      36928     \n",
            "_________________________________________________________________\n",
            "block1_pool (MaxPooling2D)   (None, 112, 112, 64)      0         \n",
            "_________________________________________________________________\n",
            "block2_conv1 (Conv2D)        (None, 112, 112, 128)     73856     \n",
            "_________________________________________________________________\n",
            "block2_conv2 (Conv2D)        (None, 112, 112, 128)     147584    \n",
            "_________________________________________________________________\n",
            "block2_pool (MaxPooling2D)   (None, 56, 56, 128)       0         \n",
            "_________________________________________________________________\n",
            "block3_conv1 (Conv2D)        (None, 56, 56, 256)       295168    \n",
            "_________________________________________________________________\n",
            "block3_conv2 (Conv2D)        (None, 56, 56, 256)       590080    \n",
            "_________________________________________________________________\n",
            "block3_conv3 (Conv2D)        (None, 56, 56, 256)       590080    \n",
            "_________________________________________________________________\n",
            "block3_pool (MaxPooling2D)   (None, 28, 28, 256)       0         \n",
            "_________________________________________________________________\n",
            "block4_conv1 (Conv2D)        (None, 28, 28, 512)       1180160   \n",
            "_________________________________________________________________\n",
            "block4_conv2 (Conv2D)        (None, 28, 28, 512)       2359808   \n",
            "_________________________________________________________________\n",
            "block4_conv3 (Conv2D)        (None, 28, 28, 512)       2359808   \n",
            "_________________________________________________________________\n",
            "block4_pool (MaxPooling2D)   (None, 14, 14, 512)       0         \n",
            "_________________________________________________________________\n",
            "block5_conv1 (Conv2D)        (None, 14, 14, 512)       2359808   \n",
            "_________________________________________________________________\n",
            "block5_conv2 (Conv2D)        (None, 14, 14, 512)       2359808   \n",
            "_________________________________________________________________\n",
            "block5_conv3 (Conv2D)        (None, 14, 14, 512)       2359808   \n",
            "_________________________________________________________________\n",
            "block5_pool (MaxPooling2D)   (None, 7, 7, 512)         0         \n",
            "=================================================================\n",
            "Total params: 14,714,688\n",
            "Trainable params: 14,714,688\n",
            "Non-trainable params: 0\n",
            "_________________________________________________________________\n"
          ],
          "name": "stdout"
        }
      ]
    },
    {
      "cell_type": "code",
      "metadata": {
        "id": "eFz8DRFTbaCx",
        "colab_type": "code",
        "colab": {}
      },
      "source": [
        "conv_base.trainable = False   # so learned weights dont change"
      ],
      "execution_count": 0,
      "outputs": []
    },
    {
      "cell_type": "code",
      "metadata": {
        "id": "A7jbqP0vZIO8",
        "colab_type": "code",
        "colab": {}
      },
      "source": [
        "model4 = models.Sequential()\n",
        "model4.add(conv_base)\n",
        "model4.add(layers.Flatten())\n",
        "model4.add(layers.Dense(512,activation='tanh'))\n",
        "model4.add(layers.Dense(24,activation='softmax'))"
      ],
      "execution_count": 0,
      "outputs": []
    },
    {
      "cell_type": "code",
      "metadata": {
        "id": "mX--WK01ZptH",
        "colab_type": "code",
        "colab": {}
      },
      "source": [
        "model4.compile(loss='categorical_crossentropy',optimizer = 'adam',metrics=['acc'])"
      ],
      "execution_count": 0,
      "outputs": []
    },
    {
      "cell_type": "code",
      "metadata": {
        "id": "E3uat38saRot",
        "colab_type": "code",
        "outputId": "5f99c01f-3db0-4789-b445-1e277f29f608",
        "colab": {
          "base_uri": "https://localhost:8080/",
          "height": 377
        }
      },
      "source": [
        "history = model4.fit_generator(train_data,\n",
        "                               epochs=10,\n",
        "                               steps_per_epoch=train_step,\n",
        "                               validation_data=valid_data,\n",
        "                               validation_steps=valid_step)"
      ],
      "execution_count": 0,
      "outputs": [
        {
          "output_type": "stream",
          "text": [
            "Epoch 1/10\n",
            "112/112 [==============================] - 56s 497ms/step - loss: 3.1716 - acc: 0.0792 - val_loss: 3.0707 - val_acc: 0.0956\n",
            "Epoch 2/10\n",
            "112/112 [==============================] - 53s 469ms/step - loss: 2.9721 - acc: 0.1247 - val_loss: 2.9492 - val_acc: 0.1160\n",
            "Epoch 3/10\n",
            "112/112 [==============================] - 53s 475ms/step - loss: 2.8659 - acc: 0.1532 - val_loss: 2.8192 - val_acc: 0.1400\n",
            "Epoch 4/10\n",
            "112/112 [==============================] - 53s 473ms/step - loss: 2.7740 - acc: 0.1752 - val_loss: 2.7631 - val_acc: 0.1889\n",
            "Epoch 5/10\n",
            "112/112 [==============================] - 53s 474ms/step - loss: 2.7311 - acc: 0.1816 - val_loss: 2.7075 - val_acc: 0.1977\n",
            "Epoch 6/10\n",
            "112/112 [==============================] - 53s 472ms/step - loss: 2.6733 - acc: 0.2052 - val_loss: 2.7187 - val_acc: 0.1861\n",
            "Epoch 7/10\n",
            "112/112 [==============================] - 53s 474ms/step - loss: 2.6591 - acc: 0.2012 - val_loss: 2.6463 - val_acc: 0.2135\n",
            "Epoch 8/10\n",
            "112/112 [==============================] - 53s 472ms/step - loss: 2.6177 - acc: 0.2068 - val_loss: 2.6429 - val_acc: 0.2048\n",
            "Epoch 9/10\n",
            "112/112 [==============================] - 53s 474ms/step - loss: 2.5924 - acc: 0.2127 - val_loss: 2.6179 - val_acc: 0.1999\n",
            "Epoch 10/10\n",
            "112/112 [==============================] - 53s 473ms/step - loss: 2.5636 - acc: 0.2235 - val_loss: 2.6360 - val_acc: 0.2098\n"
          ],
          "name": "stdout"
        }
      ]
    },
    {
      "cell_type": "code",
      "metadata": {
        "id": "DZm59a4XamVe",
        "colab_type": "code",
        "outputId": "fe60af5b-2ed6-4229-a3cb-6fdd7b4c5f4d",
        "colab": {
          "base_uri": "https://localhost:8080/",
          "height": 545
        }
      },
      "source": [
        "acc = history.history['acc']\n",
        "val_acc = history.history['val_acc']\n",
        "loss = history.history['loss']\n",
        "val_loss = history.history['val_loss']\n",
        "epochs = range(1, len(acc) + 1)\n",
        "plt.plot(epochs, acc, 'bo', label='Training acc')\n",
        "plt.plot(epochs, val_acc, 'b', label='Validation acc')\n",
        "plt.title('Training and validation accuracy')\n",
        "plt.legend()\n",
        "plt.figure()\n",
        "plt.plot(epochs, loss, 'bo', label='Training loss')\n",
        "plt.plot(epochs, val_loss, 'b', label='Validation loss')\n",
        "plt.title('Training and validation loss')\n",
        "plt.legend()\n",
        "plt.show()"
      ],
      "execution_count": 0,
      "outputs": [
        {
          "output_type": "display_data",
          "data": {
            "image/png": "[encoded data removed]",
            "text/plain": [
              "<Figure size 432x288 with 1 Axes>"
            ]
          },
          "metadata": {
            "tags": []
          }
        },
        {
          "output_type": "display_data",
          "data": {
            "image/png": "[encoded data removed]",
            "text/plain": [
              "<Figure size 432x288 with 1 Axes>"
            ]
          },
          "metadata": {
            "tags": []
          }
        }
      ]
    },
    {
      "cell_type": "markdown",
      "metadata": {
        "id": "V0H7H1KydzAb",
        "colab_type": "text"
      },
      "source": [
        "guess it is not the best model"
      ]
    },
    {
      "cell_type": "markdown",
      "metadata": {
        "id": "jGtwuA4NeWIY",
        "colab_type": "text"
      },
      "source": [
        "### Save all models"
      ]
    },
    {
      "cell_type": "code",
      "metadata": {
        "id": "oS1Xs-sjdVPp",
        "colab_type": "code",
        "colab": {}
      },
      "source": [
        "model0.save('LogisticRegression.h5')\n",
        "model1.save('CNN_5_layers_relu.h5')\n",
        "model2.save('CNN_9_layers_tanh.h5')\n",
        "model3.save('CNN_9_layers_tanh_dropout.h5')\n",
        "model4.save('Transfer_learning_VGG16.h5')"
      ],
      "execution_count": 0,
      "outputs": []
    },
    {
      "cell_type": "markdown",
      "metadata": {
        "id": "N4idj4wZpYy2",
        "colab_type": "text"
      },
      "source": [
        "# Train on full data\n",
        "to train on complete data I will create seperate directories and move file instead of copying"
      ]
    },
    {
      "cell_type": "code",
      "metadata": {
        "id": "AptnxDRIh38U",
        "colab_type": "code",
        "colab": {}
      },
      "source": [
        "base_dir = 'data_complete'\n",
        "os.mkdir(base_dir)\n",
        "data_dir = 'data'\n",
        "\n",
        "train_dir = os.path.join(base_dir,'train')\n",
        "os.mkdir(train_dir)\n",
        "valid_dir = os.path.join(base_dir,'valid')\n",
        "os.mkdir(valid_dir)\n",
        "test_dir = os.path.join(base_dir,'test')\n",
        "os.mkdir(test_dir)\n"
      ],
      "execution_count": 0,
      "outputs": []
    },
    {
      "cell_type": "code",
      "metadata": {
        "id": "xCpUfmw0p6WR",
        "colab_type": "code",
        "colab": {}
      },
      "source": [
        "for letter in os.listdir(data_dir):\n",
        "  letter_dir = os.path.join(data_dir,letter)\n",
        "  fnames = os.listdir(letter_dir)[0:-500]      #gives random elements from list\n",
        "  new_path = os.path.join(train_dir,letter)\n",
        "  if not os.path.exists(new_path):\n",
        "    os.mkdir(new_path)\n",
        "  for fname in fnames:\n",
        "    file_path = os.path.join(letter_dir,fname)\n",
        "    new_file_path = os.path.join(new_path,fname)\n",
        "    shutil.move(file_path,new_file_path)"
      ],
      "execution_count": 0,
      "outputs": []
    },
    {
      "cell_type": "code",
      "metadata": {
        "id": "7ndI5JwIqRV8",
        "colab_type": "code",
        "colab": {}
      },
      "source": [
        "for letter in os.listdir(data_dir):\n",
        "  letter_dir = os.path.join(data_dir,letter)\n",
        "  fnames = os.listdir(letter_dir)[0:-250]      #gives random elements from list\n",
        "  new_path = os.path.join(valid_dir,letter)\n",
        "  if not os.path.exists(new_path):\n",
        "    os.mkdir(new_path)\n",
        "  for fname in fnames:\n",
        "    file_path = os.path.join(letter_dir,fname)\n",
        "    new_file_path = os.path.join(new_path,fname)\n",
        "    shutil.move(file_path,new_file_path)"
      ],
      "execution_count": 0,
      "outputs": []
    },
    {
      "cell_type": "code",
      "metadata": {
        "id": "1TsM1rlUqnUR",
        "colab_type": "code",
        "colab": {}
      },
      "source": [
        "for letter in os.listdir(data_dir):\n",
        "  letter_dir = os.path.join(data_dir,letter)\n",
        "  fnames = os.listdir(letter_dir)      # to get all remaining 250 files\n",
        "  new_path = os.path.join(test_dir,letter)\n",
        "  if not os.path.exists(new_path):\n",
        "    os.mkdir(new_path)\n",
        "  for fname in fnames:\n",
        "    file_path = os.path.join(letter_dir,fname)\n",
        "    new_file_path = os.path.join(new_path,fname)\n",
        "    shutil.move(file_path,new_file_path)"
      ],
      "execution_count": 0,
      "outputs": []
    },
    {
      "cell_type": "code",
      "metadata": {
        "id": "OCDkLDk7qzGv",
        "colab_type": "code",
        "outputId": "baec2eaf-7e4e-4ecc-ca07-99c72ccceb4b",
        "colab": {
          "base_uri": "https://localhost:8080/",
          "height": 425
        }
      },
      "source": [
        "#checking if any file remain in data directory\n",
        "for letter in os.listdir(data_dir):\n",
        "  path = os.path.join(data_dir,letter)\n",
        "  print(\"{} : {}\".format(letter,len(os.listdir(path))))"
      ],
      "execution_count": 0,
      "outputs": [
        {
          "output_type": "stream",
          "text": [
            "l : 0\n",
            "t : 0\n",
            "b : 0\n",
            "d : 0\n",
            "i : 0\n",
            "p : 0\n",
            "o : 0\n",
            "k : 0\n",
            "c : 0\n",
            "e : 0\n",
            "f : 0\n",
            "u : 0\n",
            "q : 0\n",
            "v : 0\n",
            "w : 0\n",
            "m : 0\n",
            "n : 0\n",
            "y : 0\n",
            "a : 0\n",
            "h : 0\n",
            "x : 0\n",
            "g : 0\n",
            "r : 0\n",
            "s : 0\n"
          ],
          "name": "stdout"
        }
      ]
    },
    {
      "cell_type": "markdown",
      "metadata": {
        "id": "KZkS09iqrh1r",
        "colab_type": "text"
      },
      "source": [
        "**All Files Moved**"
      ]
    },
    {
      "cell_type": "code",
      "metadata": {
        "id": "zbYRGQaOrf-Q",
        "colab_type": "code",
        "outputId": "aba4a10d-58b4-4ce3-9aef-6b1babae3892",
        "colab": {
          "base_uri": "https://localhost:8080/",
          "height": 68
        }
      },
      "source": [
        "#generating Data for complete dataset\n",
        "train_data = datagen.flow_from_directory(train_dir,target_size=(224,224),batch_size=64)\n",
        "valid_data = datagen.flow_from_directory(valid_dir,target_size=(224,224),batch_size=64)\n",
        "test_data = datagen.flow_from_directory(test_dir,target_size=(224,224),batch_size=64)"
      ],
      "execution_count": 0,
      "outputs": [
        {
          "output_type": "stream",
          "text": [
            "Found 53774 images belonging to 24 classes.\n",
            "Found 6000 images belonging to 24 classes.\n",
            "Found 6000 images belonging to 24 classes.\n"
          ],
          "name": "stdout"
        }
      ]
    },
    {
      "cell_type": "code",
      "metadata": {
        "id": "ag6sHCw3r8Kl",
        "colab_type": "code",
        "colab": {}
      },
      "source": [
        ""
      ],
      "execution_count": 0,
      "outputs": []
    },
    {
      "cell_type": "markdown",
      "metadata": {
        "id": "vu4S47IgsQTR",
        "colab_type": "text"
      },
      "source": [
        "# Load the best model\n",
        "## Loading CNN_9_layers_tanh.h5"
      ]
    },
    {
      "cell_type": "code",
      "metadata": {
        "id": "jojzWjKesd5M",
        "colab_type": "code",
        "colab": {}
      },
      "source": [
        "model = models.load_model(\"CNN_9_layers_tanh.h5\")"
      ],
      "execution_count": 0,
      "outputs": []
    },
    {
      "cell_type": "code",
      "metadata": {
        "id": "c5ngK1L4spdj",
        "colab_type": "code",
        "outputId": "deeadf7e-5d2d-4af7-ad71-460a0341dd04",
        "colab": {
          "base_uri": "https://localhost:8080/",
          "height": 646
        }
      },
      "source": [
        "model.summary()"
      ],
      "execution_count": 0,
      "outputs": [
        {
          "output_type": "stream",
          "text": [
            "_________________________________________________________________\n",
            "Layer (type)                 Output Shape              Param #   \n",
            "=================================================================\n",
            "conv2d_19 (Conv2D)           (None, 222, 222, 32)      896       \n",
            "_________________________________________________________________\n",
            "max_pooling2d_19 (MaxPooling (None, 111, 111, 32)      0         \n",
            "_________________________________________________________________\n",
            "conv2d_20 (Conv2D)           (None, 109, 109, 64)      18496     \n",
            "_________________________________________________________________\n",
            "max_pooling2d_20 (MaxPooling (None, 54, 54, 64)        0         \n",
            "_________________________________________________________________\n",
            "conv2d_21 (Conv2D)           (None, 52, 52, 64)        36928     \n",
            "_________________________________________________________________\n",
            "max_pooling2d_21 (MaxPooling (None, 26, 26, 64)        0         \n",
            "_________________________________________________________________\n",
            "conv2d_22 (Conv2D)           (None, 24, 24, 128)       73856     \n",
            "_________________________________________________________________\n",
            "max_pooling2d_22 (MaxPooling (None, 12, 12, 128)       0         \n",
            "_________________________________________________________________\n",
            "conv2d_23 (Conv2D)           (None, 10, 10, 64)        73792     \n",
            "_________________________________________________________________\n",
            "max_pooling2d_23 (MaxPooling (None, 5, 5, 64)          0         \n",
            "_________________________________________________________________\n",
            "conv2d_24 (Conv2D)           (None, 3, 3, 128)         73856     \n",
            "_________________________________________________________________\n",
            "max_pooling2d_24 (MaxPooling (None, 1, 1, 128)         0         \n",
            "_________________________________________________________________\n",
            "flatten_2 (Flatten)          (None, 128)               0         \n",
            "_________________________________________________________________\n",
            "dense_7 (Dense)              (None, 128)               16512     \n",
            "_________________________________________________________________\n",
            "dense_8 (Dense)              (None, 24)                3096      \n",
            "=================================================================\n",
            "Total params: 297,432\n",
            "Trainable params: 297,432\n",
            "Non-trainable params: 0\n",
            "_________________________________________________________________\n"
          ],
          "name": "stdout"
        }
      ]
    },
    {
      "cell_type": "code",
      "metadata": {
        "id": "XgHZY0t2ssUJ",
        "colab_type": "code",
        "colab": {}
      },
      "source": [
        "model.compile(loss='categorical_crossentropy',optimizer = 'adam', metrics=['acc'])"
      ],
      "execution_count": 0,
      "outputs": []
    },
    {
      "cell_type": "code",
      "metadata": {
        "id": "Ab8RKP1auTsn",
        "colab_type": "code",
        "outputId": "34cc9dae-104b-4bcf-80a8-df3a33b9113f",
        "colab": {
          "base_uri": "https://localhost:8080/",
          "height": 34
        }
      },
      "source": [
        "train_steps = 53774//64\n",
        "test_steps = valid_steps = 6000//64\n",
        "print(\"t\",train_steps,'v',valid_steps)"
      ],
      "execution_count": 0,
      "outputs": [
        {
          "output_type": "stream",
          "text": [
            "t 840 v 93\n"
          ],
          "name": "stdout"
        }
      ]
    },
    {
      "cell_type": "code",
      "metadata": {
        "id": "LVrrAuVjs6Cr",
        "colab_type": "code",
        "outputId": "b5ae38b8-1af8-456c-d1c7-cbb3eead1b55",
        "colab": {
          "base_uri": "https://localhost:8080/",
          "height": 581
        }
      },
      "source": [
        "history = model.fit_generator(train_data,\n",
        "                              validation_data=valid_data,\n",
        "                              epochs=16,\n",
        "                              steps_per_epoch=train_steps,\n",
        "                              validation_steps=valid_steps)"
      ],
      "execution_count": 0,
      "outputs": [
        {
          "output_type": "stream",
          "text": [
            "Epoch 1/16\n",
            "840/840 [==============================] - 173s 206ms/step - loss: 0.0801 - acc: 0.9770 - val_loss: 0.1076 - val_acc: 0.9673\n",
            "Epoch 2/16\n",
            "840/840 [==============================] - 165s 196ms/step - loss: 0.0603 - acc: 0.9817 - val_loss: 0.0884 - val_acc: 0.9730\n",
            "Epoch 3/16\n",
            "840/840 [==============================] - 166s 197ms/step - loss: 0.0483 - acc: 0.9852 - val_loss: 0.0714 - val_acc: 0.9801\n",
            "Epoch 4/16\n",
            "840/840 [==============================] - 163s 194ms/step - loss: 0.0477 - acc: 0.9853 - val_loss: 0.0700 - val_acc: 0.9789\n",
            "Epoch 5/16\n",
            "840/840 [==============================] - 165s 196ms/step - loss: 0.0489 - acc: 0.9842 - val_loss: 0.0538 - val_acc: 0.9837\n",
            "Epoch 6/16\n",
            "840/840 [==============================] - 162s 193ms/step - loss: 0.0386 - acc: 0.9880 - val_loss: 0.0898 - val_acc: 0.9729\n",
            "Epoch 7/16\n",
            "840/840 [==============================] - 165s 196ms/step - loss: 0.0485 - acc: 0.9836 - val_loss: 0.0781 - val_acc: 0.9792\n",
            "Epoch 8/16\n",
            "840/840 [==============================] - 162s 193ms/step - loss: 0.0359 - acc: 0.9879 - val_loss: 0.0601 - val_acc: 0.9828\n",
            "Epoch 9/16\n",
            "840/840 [==============================] - 165s 197ms/step - loss: 0.0441 - acc: 0.9855 - val_loss: 0.0408 - val_acc: 0.9880\n",
            "Epoch 10/16\n",
            "840/840 [==============================] - 162s 193ms/step - loss: 0.0364 - acc: 0.9885 - val_loss: 0.0460 - val_acc: 0.9874\n",
            "Epoch 11/16\n",
            "840/840 [==============================] - 164s 196ms/step - loss: 0.0333 - acc: 0.9891 - val_loss: 0.0648 - val_acc: 0.9801\n",
            "Epoch 12/16\n",
            "840/840 [==============================] - 163s 194ms/step - loss: 0.0434 - acc: 0.9858 - val_loss: 0.0657 - val_acc: 0.9811\n",
            "Epoch 13/16\n",
            "840/840 [==============================] - 163s 194ms/step - loss: 0.0405 - acc: 0.9869 - val_loss: 0.0357 - val_acc: 0.9894\n",
            "Epoch 14/16\n",
            "840/840 [==============================] - 163s 194ms/step - loss: 0.0332 - acc: 0.9891 - val_loss: 0.0525 - val_acc: 0.9838\n",
            "Epoch 15/16\n",
            "840/840 [==============================] - 164s 195ms/step - loss: 0.0327 - acc: 0.9897 - val_loss: 0.0619 - val_acc: 0.9815\n",
            "Epoch 16/16\n",
            "840/840 [==============================] - 164s 195ms/step - loss: 0.0384 - acc: 0.9877 - val_loss: 0.0432 - val_acc: 0.9870\n"
          ],
          "name": "stdout"
        }
      ]
    },
    {
      "cell_type": "code",
      "metadata": {
        "id": "wbsp_33qtsGG",
        "colab_type": "code",
        "outputId": "6cbca1fd-825c-4da4-e169-2a2459c4e41c",
        "colab": {
          "base_uri": "https://localhost:8080/",
          "height": 545
        }
      },
      "source": [
        "acc = history.history['acc']\n",
        "val_acc = history.history['val_acc']\n",
        "loss = history.history['loss']\n",
        "val_loss = history.history['val_loss']\n",
        "epochs = range(1, len(acc) + 1)\n",
        "plt.plot(epochs, acc, 'bo', label='Training acc')\n",
        "plt.plot(epochs, val_acc, 'b', label='Validation acc')\n",
        "plt.title('Training and validation accuracy')\n",
        "plt.legend()\n",
        "plt.figure()\n",
        "plt.plot(epochs, loss, 'bo', label='Training loss')\n",
        "plt.plot(epochs, val_loss, 'b', label='Validation loss')\n",
        "plt.title('Training and validation loss')\n",
        "plt.legend()\n",
        "plt.show()"
      ],
      "execution_count": 0,
      "outputs": [
        {
          "output_type": "display_data",
          "data": {
            "image/png": "[encoded data removed]",
            "text/plain": [
              "<Figure size 432x288 with 1 Axes>"
            ]
          },
          "metadata": {
            "tags": []
          }
        },
        {
          "output_type": "display_data",
          "data": {
            "image/png": "[encoded data removed]",
            "text/plain": [
              "<Figure size 432x288 with 1 Axes>"
            ]
          },
          "metadata": {
            "tags": []
          }
        }
      ]
    },
    {
      "cell_type": "code",
      "metadata": {
        "id": "7tDPYB8x49Yz",
        "colab_type": "code",
        "outputId": "589d6f30-62e6-4864-dc62-01d7e8e8d9bc",
        "colab": {
          "base_uri": "https://localhost:8080/",
          "height": 34
        }
      },
      "source": [
        "model.evaluate_generator(test_data,steps=test_steps)"
      ],
      "execution_count": 0,
      "outputs": [
        {
          "output_type": "execute_result",
          "data": {
            "text/plain": [
              "[0.03966623473967556, 0.9867271505376344]"
            ]
          },
          "metadata": {
            "tags": []
          },
          "execution_count": 91
        }
      ]
    },
    {
      "cell_type": "code",
      "metadata": {
        "id": "Db42DNaQ7qzf",
        "colab_type": "code",
        "colab": {}
      },
      "source": [
        "model.save(\"final_model.h5\")"
      ],
      "execution_count": 0,
      "outputs": []
    },
    {
      "cell_type": "markdown",
      "metadata": {
        "id": "ZaWkCeC45RAZ",
        "colab_type": "text"
      },
      "source": [
        "# Results"
      ]
    },
    {
      "cell_type": "code",
      "metadata": {
        "id": "VcE-Jfdm5Mda",
        "colab_type": "code",
        "colab": {}
      },
      "source": [
        "final_loss,final_acc = model.evaluate_generator(test_data,steps=test_steps)\n",
        "loss0,acc0 = model0.evaluate_generator(test_data,steps=test_steps)\n",
        "loss1,acc1 = model1.evaluate_generator(test_data,steps=test_steps)\n",
        "loss2,acc2 = model2.evaluate_generator(test_data,steps=test_steps)\n",
        "loss3,acc3 = model3.evaluate_generator(test_data,steps=test_steps)\n",
        "loss4,acc4 = model4.evaluate_generator(test_data,steps=test_steps)"
      ],
      "execution_count": 0,
      "outputs": []
    },
    {
      "cell_type": "code",
      "metadata": {
        "id": "KpgIKPUW6L_t",
        "colab_type": "code",
        "colab": {}
      },
      "source": [
        "result_dict = {\n",
        "    'Model Name' :['Logistic Regression','CNN 5 Layers','CNN 9 Layers','CNN 9 Layers dropout','VGG16','final_model',],\n",
        "    'Activations':['None','relu','tanh','tanh','tanh','tanh',],\n",
        "    'Output Activations':['softmax','softmax','softmax','softmax','softmax','softmax',],\n",
        "    'Drouput':['None','None','None','0.14','None','None',],\n",
        "    'Optimizer':['sgd','adam','adam','adam','adam','adam',],\n",
        "    'Model Accuracy':[acc0,acc1,acc2,acc3,acc4,final_acc,],\n",
        "    'Model Loss':[loss0,loss1,loss2,loss3,loss4,final_loss,],\n",
        "    \n",
        "}"
      ],
      "execution_count": 0,
      "outputs": []
    },
    {
      "cell_type": "code",
      "metadata": {
        "id": "0aZR3qdl7Ptj",
        "colab_type": "code",
        "colab": {}
      },
      "source": [
        "import pandas as pd\n",
        "results= pd.DataFrame(result_dict)"
      ],
      "execution_count": 0,
      "outputs": []
    },
    {
      "cell_type": "code",
      "metadata": {
        "id": "GmaepGgv-gf-",
        "colab_type": "code",
        "colab": {}
      },
      "source": [
        "results = results.sort_values(by=['Model Accuracy'],ascending=False)"
      ],
      "execution_count": 0,
      "outputs": []
    },
    {
      "cell_type": "code",
      "metadata": {
        "id": "H0cgZJ1q7fSj",
        "colab_type": "code",
        "colab": {}
      },
      "source": [
        "results.to_csv('results.csv')"
      ],
      "execution_count": 0,
      "outputs": []
    },
    {
      "cell_type": "code",
      "metadata": {
        "id": "lirUjWaW7hOj",
        "colab_type": "code",
        "outputId": "a3f3cd5d-50bd-41bf-a5f4-3a3288bfb92f",
        "colab": {
          "base_uri": "https://localhost:8080/",
          "height": 235
        }
      },
      "source": [
        "results"
      ],
      "execution_count": 0,
      "outputs": [
        {
          "output_type": "execute_result",
          "data": {
            "text/html": [
              "<div>\n",
              "<style scoped>\n",
              "    .dataframe tbody tr th:only-of-type {\n",
              "        vertical-align: middle;\n",
              "    }\n",
              "\n",
              "    .dataframe tbody tr th {\n",
              "        vertical-align: top;\n",
              "    }\n",
              "\n",
              "    .dataframe thead th {\n",
              "        text-align: right;\n",
              "    }\n",
              "</style>\n",
              "<table border=\"1\" class=\"dataframe\">\n",
              "  <thead>\n",
              "    <tr style=\"text-align: right;\">\n",
              "      <th></th>\n",
              "      <th>Model Name</th>\n",
              "      <th>Activations</th>\n",
              "      <th>Output Activations</th>\n",
              "      <th>Drouput</th>\n",
              "      <th>Optimizer</th>\n",
              "      <th>Model Accuracy</th>\n",
              "      <th>Model Loss</th>\n",
              "    </tr>\n",
              "  </thead>\n",
              "  <tbody>\n",
              "    <tr>\n",
              "      <th>5</th>\n",
              "      <td>final_model</td>\n",
              "      <td>tanh</td>\n",
              "      <td>softmax</td>\n",
              "      <td>None</td>\n",
              "      <td>adam</td>\n",
              "      <td>0.986018</td>\n",
              "      <td>0.040327</td>\n",
              "    </tr>\n",
              "    <tr>\n",
              "      <th>2</th>\n",
              "      <td>CNN 9 Layers</td>\n",
              "      <td>tanh</td>\n",
              "      <td>softmax</td>\n",
              "      <td>None</td>\n",
              "      <td>adam</td>\n",
              "      <td>0.965970</td>\n",
              "      <td>0.125028</td>\n",
              "    </tr>\n",
              "    <tr>\n",
              "      <th>3</th>\n",
              "      <td>CNN 9 Layers dropout</td>\n",
              "      <td>tanh</td>\n",
              "      <td>softmax</td>\n",
              "      <td>0.14</td>\n",
              "      <td>adam</td>\n",
              "      <td>0.916611</td>\n",
              "      <td>0.273225</td>\n",
              "    </tr>\n",
              "    <tr>\n",
              "      <th>4</th>\n",
              "      <td>VGG16</td>\n",
              "      <td>tanh</td>\n",
              "      <td>softmax</td>\n",
              "      <td>None</td>\n",
              "      <td>adam</td>\n",
              "      <td>0.209063</td>\n",
              "      <td>2.603566</td>\n",
              "    </tr>\n",
              "    <tr>\n",
              "      <th>0</th>\n",
              "      <td>Logistic Regression</td>\n",
              "      <td>None</td>\n",
              "      <td>softmax</td>\n",
              "      <td>None</td>\n",
              "      <td>sgd</td>\n",
              "      <td>0.080863</td>\n",
              "      <td>14.801846</td>\n",
              "    </tr>\n",
              "    <tr>\n",
              "      <th>1</th>\n",
              "      <td>CNN 5 Layers</td>\n",
              "      <td>relu</td>\n",
              "      <td>softmax</td>\n",
              "      <td>None</td>\n",
              "      <td>adam</td>\n",
              "      <td>0.026112</td>\n",
              "      <td>3.181179</td>\n",
              "    </tr>\n",
              "  </tbody>\n",
              "</table>\n",
              "</div>"
            ],
            "text/plain": [
              "             Model Name Activations  ... Model Accuracy Model Loss\n",
              "5           final_model        tanh  ...       0.986018   0.040327\n",
              "2          CNN 9 Layers        tanh  ...       0.965970   0.125028\n",
              "3  CNN 9 Layers dropout        tanh  ...       0.916611   0.273225\n",
              "4                 VGG16        tanh  ...       0.209063   2.603566\n",
              "0   Logistic Regression        None  ...       0.080863  14.801846\n",
              "1          CNN 5 Layers        relu  ...       0.026112   3.181179\n",
              "\n",
              "[6 rows x 7 columns]"
            ]
          },
          "metadata": {
            "tags": []
          },
          "execution_count": 109
        }
      ]
    },
    {
      "cell_type": "code",
      "metadata": {
        "id": "vaqNN7ibDIg2",
        "colab_type": "code",
        "colab": {}
      },
      "source": [
        "from sklearn.metrics import confusion_matrix\n",
        "import seaborn as sns"
      ],
      "execution_count": 0,
      "outputs": []
    },
    {
      "cell_type": "code",
      "metadata": {
        "id": "KQmFhdQ2Db_c",
        "colab_type": "code",
        "colab": {
          "base_uri": "https://localhost:8080/",
          "height": 503
        },
        "outputId": "eae3b0b5-8972-4491-891c-796224e0df92"
      },
      "source": [
        "input_batch,label = test_data.next()\n",
        "pred = model.predict(input_batch)\n",
        "\n",
        "plt.figure(figsize=(10,8))\n",
        "cm = confusion_matrix(label.argmax(axis=1),pred.argmax(axis=1))\n",
        "sns.heatmap(cm,annot=True)"
      ],
      "execution_count": 195,
      "outputs": [
        {
          "output_type": "execute_result",
          "data": {
            "text/plain": [
              "<matplotlib.axes._subplots.AxesSubplot at 0x7fba8236eeb8>"
            ]
          },
          "metadata": {
            "tags": []
          },
          "execution_count": 195
        },
        {
          "output_type": "display_data",
          "data": {
            "image/png": "[encoded data removed]",
            "text/plain": [
              "<Figure size 720x576 with 2 Axes>"
            ]
          },
          "metadata": {
            "tags": []
          }
        }
      ]
    }
  ]
}